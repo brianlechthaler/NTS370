{
 "cells": [
  {
   "cell_type": "markdown",
   "metadata": {},
   "source": [
    "# Project 3.2\n",
    "*Brian Lechthaler*\n",
    "\n",
    "*4/9/2019*\n",
    "\n",
    "*NTS370/G. Miles*"
   ]
  },
  {
   "cell_type": "code",
   "execution_count": 1,
   "metadata": {},
   "outputs": [],
   "source": [
    "#Import Dependencies\n",
    "import numpy as np"
   ]
  },
  {
   "cell_type": "code",
   "execution_count": 2,
   "metadata": {},
   "outputs": [],
   "source": [
    "#Declare minimum and maximum values for range.\n",
    "#By default, min=1 and max=100, so the result should be integers 1-100\n",
    "rangeMin = 1\n",
    "rangeMax = 100"
   ]
  },
  {
   "cell_type": "code",
   "execution_count": 3,
   "metadata": {},
   "outputs": [],
   "source": [
    "#Create array y as a range of integers\n",
    "y = np.arange(100).reshape(rangeMin, rangeMax)\n",
    "with np.nditer(y, op_flags=['readwrite']) as it:\n",
    "        for x in it:\n",
    "                x[...] = 1 + x\n",
    "\n",
    "#Flip array y and output to array a\n",
    "a = np.fliplr(y)"
   ]
  },
  {
   "cell_type": "code",
   "execution_count": 4,
   "metadata": {},
   "outputs": [
    {
     "name": "stdout",
     "output_type": "stream",
     "text": [
      "[[  1   2   3   4   5   6   7   8   9  10  11  12  13  14  15  16  17  18\n",
      "   19  20  21  22  23  24  25  26  27  28  29  30  31  32  33  34  35  36\n",
      "   37  38  39  40  41  42  43  44  45  46  47  48  49  50  51  52  53  54\n",
      "   55  56  57  58  59  60  61  62  63  64  65  66  67  68  69  70  71  72\n",
      "   73  74  75  76  77  78  79  80  81  82  83  84  85  86  87  88  89  90\n",
      "   91  92  93  94  95  96  97  98  99 100]]\n",
      "[[100  99  98  97  96  95  94  93  92  91  90  89  88  87  86  85  84  83\n",
      "   82  81  80  79  78  77  76  75  74  73  72  71  70  69  68  67  66  65\n",
      "   64  63  62  61  60  59  58  57  56  55  54  53  52  51  50  49  48  47\n",
      "   46  45  44  43  42  41  40  39  38  37  36  35  34  33  32  31  30  29\n",
      "   28  27  26  25  24  23  22  21  20  19  18  17  16  15  14  13  12  11\n",
      "   10   9   8   7   6   5   4   3   2   1]]\n"
     ]
    }
   ],
   "source": [
    "#Print arrays\n",
    "print(y)\n",
    "print(a)"
   ]
  },
  {
   "cell_type": "code",
   "execution_count": 5,
   "metadata": {},
   "outputs": [
    {
     "name": "stdout",
     "output_type": "stream",
     "text": [
      "5050\n",
      "5050\n"
     ]
    }
   ],
   "source": [
    "#Print sums of array axis\n",
    "print(y.sum())\n",
    "print(a.sum())"
   ]
  },
  {
   "cell_type": "code",
   "execution_count": null,
   "metadata": {},
   "outputs": [],
   "source": []
  }
 ],
 "metadata": {
  "kernelspec": {
   "display_name": "Python 3",
   "language": "python",
   "name": "python3"
  },
  "language_info": {
   "codemirror_mode": {
    "name": "ipython",
    "version": 3
   },
   "file_extension": ".py",
   "mimetype": "text/x-python",
   "name": "python",
   "nbconvert_exporter": "python",
   "pygments_lexer": "ipython3",
   "version": "3.6.8"
  }
 },
 "nbformat": 4,
 "nbformat_minor": 2
}
