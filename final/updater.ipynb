{
 "cells": [
  {
   "cell_type": "markdown",
   "metadata": {},
   "source": [
    "# **Final Project**: Updater Script\n",
    "\n",
    " - *Brian Lechthaler*\n",
    " - *04-20-19*\n",
    " - *NTS370 @ UAT (feat G. Miles)*\n"
   ]
  },
  {
   "cell_type": "markdown",
   "metadata": {},
   "source": [
    "## Credits"
   ]
  },
  {
   "cell_type": "code",
   "execution_count": null,
   "metadata": {},
   "outputs": [
    {
     "name": "stdout",
     "output_type": "stream",
     "text": [
      "----------------------------------------\n",
      "   __  __          __      __           \n",
      "  / / / /___  ____/ /___ _/ /____  _____\n"
     ]
    }
   ],
   "source": [
    "#!/bin/bash\n",
    "#Final Project\n",
    "#  Brian Lechthaler\n",
    "#  04/20/19\n",
    "#  NTS370@UAT (feat G. Miles)\n",
    "\n",
    "#ASCII art makes everything better\n",
    "\n",
    "echo \"----------------------------------------\"\n",
    "echo \"   __  __          __      __           \"\n",
    "echo \"  / / / /___  ____/ /___ _/ /____  _____\"\n",
    "echo \" / / / / __ \\/ __  / __ `/ __/ _ \\/ ___/\"\n",
    "echo \"/ /_/ / /_/ / /_/ / /_/ / /_/  __/ /    \"\n",
    "echo \"\\____/ .___/\\__,_/\\__,_/\\__/\\___/_/  v1 \"\n",
    "echo \"    /_/                                 \"\n",
    "echo \"   Updater Script by Brian Lechthaler   \"\n",
    "echo \"----------------------------------------\""
   ]
  },
  {
   "cell_type": "markdown",
   "metadata": {},
   "source": [
    "## Part I: Platform Check\n",
    "- This is to make sure this script can only be run on the target OS, Linux\n",
    "- I don't have the time to test this script in a BSD environment, so I'm not including detection of that platform "
   ]
  },
  {
   "cell_type": "code",
   "execution_count": 2,
   "metadata": {},
   "outputs": [
    {
     "name": "stdout",
     "output_type": "stream",
     "text": [
      "INFO: You are running Linux. This script is designed to work here.\n"
     ]
    }
   ],
   "source": [
    "#Ask uname if we're on Linux\n",
    "platform=$(uname)\n",
    "\n",
    "if [ $platform = \"Linux\" ]\n",
    "then \n",
    "    echo \"INFO: You are running Linux. This script is designed to work here.\"\n",
    "else\n",
    "    echo \"ERROR: It looks like you aren't running this script on Linux. This script wont work here.\"\n",
    "fi"
   ]
  },
  {
   "cell_type": "markdown",
   "metadata": {},
   "source": [
    "## Part II: Load Config\n",
    "- To avoid forcing users to run the script with a million arguments, we need to load a config file containing variables\n",
    "- When running this script, just add a commadline argument so we know where the conf file is"
   ]
  },
  {
   "cell_type": "code",
   "execution_count": 3,
   "metadata": {},
   "outputs": [
    {
     "name": "stdout",
     "output_type": "stream",
     "text": [
      "INFO: Loaded config from /home/brianlechthaler/Documents/uat_files/uat_spring19/nts370/update.conf\n",
      "Config Options:\n",
      "useAPT=\"no\"\n",
      "useGIT=\"no\"\n",
      "\n",
      "gitDIR=\"$HOME/git\"\n"
     ]
    }
   ],
   "source": [
    "#Declare config directory variables\n",
    "confDIR=$1/update.conf\n",
    "pwdCONF=$PWD/update.conf\n",
    "\n",
    "\n",
    "if [ -s $confDIR ]\n",
    "then\n",
    "    source $confDIR\n",
    "    echo \"INFO: Loaded config from $confDIR\"\n",
    "    echo \"Config Options:\"\n",
    "    cat $confDIR | grep -v \"#\"\n",
    "elif [ -s $pwdCONF ]\n",
    "then\n",
    "    source $pwdCONF\n",
    "    echo \"INFO: Loaded config from $pwdCONF\"\n",
    "    echo \"Config Options:\"\n",
    "    cat $pwdCONF | grep -v \"#\"\n",
    "else \n",
    "    \"ERROR: No config files found.\"\n",
    "fi\n",
    "\n"
   ]
  },
  {
   "cell_type": "markdown",
   "metadata": {},
   "source": [
    "## Part III: Update Apt\n",
    "- Intended for Debian/DPKG based systems."
   ]
  },
  {
   "cell_type": "code",
   "execution_count": 4,
   "metadata": {},
   "outputs": [
    {
     "name": "stdout",
     "output_type": "stream",
     "text": [
      "\n",
      "INFO: Skipping apt updates/upgrades.\n",
      "Did you set useAPT=yes in the config?\n"
     ]
    }
   ],
   "source": [
    "if [ $useAPT == 'yes' ]\n",
    "then\n",
    "    sudo apt update\n",
    "    sudo apt full-upgrade -y\n",
    "else\n",
    "    echo\n",
    "fi\n",
    "\n",
    "if [ $useAPT == 'no' ]\n",
    "then\n",
    "    echo \"INFO: Skipping apt updates/upgrades.\"\n",
    "    echo \"Did you set useAPT=yes in the config?\"\n",
    "fi"
   ]
  },
  {
   "cell_type": "markdown",
   "metadata": {},
   "source": [
    "## Part IV: Update Git Repos\n",
    "- Credit to GitHub user **mnangel** for making this awesome script, Clustergit!\n",
    "    - [Find the original repository for Clustergit here](https://github.com/mnagel/clustergit.git)\n",
    "    - I'm not affiliated with this user, or the clustergit repo at the time of writing this"
   ]
  },
  {
   "cell_type": "code",
   "execution_count": 5,
   "metadata": {},
   "outputs": [
    {
     "name": "stdout",
     "output_type": "stream",
     "text": [
      "INFO: Skipping GIT updates/upgrades.\n",
      "Did you set useGIT=yes in the config?\n"
     ]
    }
   ],
   "source": [
    "tmpDIR=\"/tmp/mnangel-clustergit_$RANDOM\"\n",
    "mkdir -p $tmpDIR\n",
    "if [ useGIT == 'yes' ]\n",
    "then\n",
    "    echo \"Before we start, we have to clone an external script.\"\n",
    "    git clone --recursive https://github.com/mnagel/clustergit.git $tmpDIR\n",
    "    cd $gitDIR\n",
    "    /bin/bash ./$tmpDIR/clustergit \n",
    "fi\n",
    "    \n",
    "if [ $useGIT == 'no' ]\n",
    "then\n",
    "    echo \"INFO: Skipping GIT updates/upgrades.\"\n",
    "    echo \"Did you set useGIT=yes in the config?\"\n",
    "fi"
   ]
  }
 ],
 "metadata": {
  "kernelspec": {
   "display_name": "Bash",
   "language": "bash",
   "name": "bash"
  },
  "language_info": {
   "codemirror_mode": "shell",
   "file_extension": ".sh",
   "mimetype": "text/x-sh",
   "name": "bash"
  }
 },
 "nbformat": 4,
 "nbformat_minor": 2
}
