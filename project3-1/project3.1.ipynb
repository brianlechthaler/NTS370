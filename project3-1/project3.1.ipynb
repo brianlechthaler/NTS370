{
 "cells": [
  {
   "cell_type": "code",
   "execution_count": 2,
   "metadata": {},
   "outputs": [],
   "source": [
    "###Project 3.1\n",
    "###Brian Lechthaler\n",
    "##NTS370\n",
    "##Prof. G. Miles\n",
    "# Source lyrics: \n",
    "# https://genius.com/Mgmt-hand-it-over-lyrics"
   ]
  },
  {
   "cell_type": "code",
   "execution_count": 6,
   "metadata": {},
   "outputs": [],
   "source": [
    "verse1 = \"\\n The deals we made to shake things up\\n And the rights that they abused\\n Might just fuck us over\\n But the doors won't shut until they're sure\\n There's nothing left to use\\n Someone's taking over\\n Threw it away, but now I say\\n It's time to hand it over\"\n",
    "verse2 = \"\\n The joke's worn thin, the king stepped in\\n Now we'll see who is who\\n Look who's bending over\\n But the stars weren't wrong, the time felt right\\n We both knew it was true\\n The smart ones exit early\\n And the rest hope for a shoulder\"\n",
    "verse3 = \"\\n If we lose our touch, it won't mean much\\n If everyone's confused\\n Which door do we open?\\n It's the same old trick, they played their hand\\n Now there's one thing left to do\"\n",
    "chorus1 = \"It’s time (Hand it over)\\n It's yours and it's mine (Hand it over)\\n One thing on my mind (Hand it over)\\n It's rightfully mine (Hand it over)\\n In the dark (Hand it over)\\n What's yours is mine (Hand it over)\\n Mm, make it right (Hand it over)\\n And give me what's mine (Hand it over)\"\n",
    "chorus2 = \"\\n Oh, this time (Hand it over)\\n It's yours and mine (Hand it over)\\n Hey, it's time to hand it over\\n Just give me what's mine (Hand it over)\\n Mm, anytime (Hand it over)\\n It's yours and it's mine (Hand it over)\\n Oh, I need time (Hand it over)\\n No, no, it's rightfully mine (Hand it over)\\n Oh, anytime\" "
   ]
  },
  {
   "cell_type": "code",
   "execution_count": 7,
   "metadata": {},
   "outputs": [
    {
     "name": "stdout",
     "output_type": "stream",
     "text": [
      "\n",
      " The deals we made to shake things up\n",
      " And the rights that they abused\n",
      " Might just fuck us over\n",
      " But the doors won't shut until they're sure\n",
      " There's nothing left to use\n",
      " Someone's taking over\n",
      " Threw it away, but now I say\n",
      " It's time to hand it over\n",
      " The joke's worn thin, the king stepped in\n",
      " Now we'll see who is who\n",
      " Look who's bending over\n",
      " But the stars weren't wrong, the time felt right\n",
      " We both knew it was true\n",
      " The smart ones exit early\n",
      " And the rest hope for a shoulder\n",
      " If we lose our touch, it won't mean much\n",
      " If everyone's confused\n",
      " Which door do we open?\n",
      " It's the same old trick, they played their hand\n",
      " Now there's one thing left to doIt’s time (Hand it over)\n",
      " It's yours and it's mine (Hand it over)\n",
      " One thing on my mind (Hand it over)\n",
      " It's rightfully mine (Hand it over)\n",
      " In the dark (Hand it over)\n",
      " What's yours is mine (Hand it over)\n",
      " Mm, make it right (Hand it over)\n",
      " And give me what's mine (Hand it over)\n",
      " Oh, this time (Hand it over)\n",
      " It's yours and mine (Hand it over)\n",
      " Hey, it's time to hand it over\n",
      " Just give me what's mine (Hand it over)\n",
      " Mm, anytime (Hand it over)\n",
      " It's yours and it's mine (Hand it over)\n",
      " Oh, I need time (Hand it over)\n",
      " No, no, it's rightfully mine (Hand it over)\n",
      " Oh, anytime\n"
     ]
    }
   ],
   "source": [
    "print(verse1 + verse2 + verse3 + chorus1 + chorus2)"
   ]
  },
  {
   "cell_type": "code",
   "execution_count": null,
   "metadata": {},
   "outputs": [],
   "source": []
  }
 ],
 "metadata": {
  "kernelspec": {
   "display_name": "Python 3",
   "language": "python",
   "name": "python3"
  },
  "language_info": {
   "codemirror_mode": {
    "name": "ipython",
    "version": 3
   },
   "file_extension": ".py",
   "mimetype": "text/x-python",
   "name": "python",
   "nbconvert_exporter": "python",
   "pygments_lexer": "ipython3",
   "version": "3.6.8"
  }
 },
 "nbformat": 4,
 "nbformat_minor": 2
}
